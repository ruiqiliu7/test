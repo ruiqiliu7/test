{
 "cells": [
  {
   "cell_type": "markdown",
   "metadata": {},
   "source": [
    "###### Ruiqi Liu\n",
    "###### CS6220\n",
    "###### Assignment 1\n",
    "###### 1/18/2025"
   ]
  },
  {
   "cell_type": "markdown",
   "metadata": {},
   "source": [
    "#### Prepare Environment and Load Data"
   ]
  },
  {
   "cell_type": "code",
   "execution_count": 15,
   "metadata": {},
   "outputs": [
    {
     "data": {
      "text/html": [
       "<div>\n",
       "<style scoped>\n",
       "    .dataframe tbody tr th:only-of-type {\n",
       "        vertical-align: middle;\n",
       "    }\n",
       "\n",
       "    .dataframe tbody tr th {\n",
       "        vertical-align: top;\n",
       "    }\n",
       "\n",
       "    .dataframe thead th {\n",
       "        text-align: right;\n",
       "    }\n",
       "</style>\n",
       "<table border=\"1\" class=\"dataframe\">\n",
       "  <thead>\n",
       "    <tr style=\"text-align: right;\">\n",
       "      <th></th>\n",
       "      <th>user_id</th>\n",
       "      <th>movie_id</th>\n",
       "      <th>rating</th>\n",
       "      <th>timestamp</th>\n",
       "      <th>gender</th>\n",
       "      <th>age</th>\n",
       "      <th>occupation</th>\n",
       "      <th>zip</th>\n",
       "      <th>title</th>\n",
       "      <th>genres</th>\n",
       "    </tr>\n",
       "  </thead>\n",
       "  <tbody>\n",
       "    <tr>\n",
       "      <th>0</th>\n",
       "      <td>1</td>\n",
       "      <td>1193</td>\n",
       "      <td>5</td>\n",
       "      <td>978300760</td>\n",
       "      <td>F</td>\n",
       "      <td>1</td>\n",
       "      <td>10</td>\n",
       "      <td>48067</td>\n",
       "      <td>One Flew Over the Cuckoo's Nest (1975)</td>\n",
       "      <td>Drama</td>\n",
       "    </tr>\n",
       "  </tbody>\n",
       "</table>\n",
       "</div>"
      ],
      "text/plain": [
       "   user_id  movie_id  rating  timestamp gender  age  occupation    zip  \\\n",
       "0        1      1193       5  978300760      F    1          10  48067   \n",
       "\n",
       "                                    title genres  \n",
       "0  One Flew Over the Cuckoo's Nest (1975)  Drama  "
      ]
     },
     "execution_count": 15,
     "metadata": {},
     "output_type": "execute_result"
    }
   ],
   "source": [
    "# Import necessary libraries\n",
    "import pandas as pd\n",
    "import numpy as np\n",
    "\n",
    "# Define column names for each file\n",
    "user_cols = ['user_id', 'gender', 'age', 'occupation', 'zip']\n",
    "rating_cols = ['user_id', 'movie_id', 'rating', 'timestamp']\n",
    "movie_cols = ['movie_id', 'title', 'genres']\n",
    "\n",
    "# Load the data files using pandas read_table\n",
    "users = pd.read_table('ml-1m/users.dat', sep='::', header=None, names=user_cols, engine='python',encoding='latin-1')\n",
    "ratings = pd.read_table('ml-1m/ratings.dat', sep='::', header=None, names=rating_cols, engine='python',encoding='latin-1')\n",
    "movies = pd.read_table('ml-1m/movies.dat', sep='::', header=None, names=movie_cols, engine='python',encoding='latin-1')\n",
    "\n",
    "# Merge the data into a single DataFrame\n",
    "data = pd.merge(pd.merge(ratings, users), movies)\n",
    "\n",
    "# Quick check of the merged data\n",
    "data.head(1)\n"
   ]
  },
  {
   "cell_type": "markdown",
   "metadata": {},
   "source": [
    "#### Task 1: Aggregate movie ratings by men over age 25 for each genre\n",
    "1. Filter the data for male users above age 25.\n",
    "2. Expand the genres column so that each genre is considered separately.\n",
    "3. Group by each genre and compute aggregate statistics (count and average rating).\n"
   ]
  },
  {
   "cell_type": "code",
   "execution_count": 16,
   "metadata": {},
   "outputs": [
    {
     "data": {
      "text/html": [
       "<div>\n",
       "<style scoped>\n",
       "    .dataframe tbody tr th:only-of-type {\n",
       "        vertical-align: middle;\n",
       "    }\n",
       "\n",
       "    .dataframe tbody tr th {\n",
       "        vertical-align: top;\n",
       "    }\n",
       "\n",
       "    .dataframe thead th {\n",
       "        text-align: right;\n",
       "    }\n",
       "</style>\n",
       "<table border=\"1\" class=\"dataframe\">\n",
       "  <thead>\n",
       "    <tr style=\"text-align: right;\">\n",
       "      <th></th>\n",
       "      <th>num_ratings</th>\n",
       "      <th>avg_rating</th>\n",
       "    </tr>\n",
       "    <tr>\n",
       "      <th>genre_list</th>\n",
       "      <th></th>\n",
       "      <th></th>\n",
       "    </tr>\n",
       "  </thead>\n",
       "  <tbody>\n",
       "    <tr>\n",
       "      <th>Drama</th>\n",
       "      <td>107794</td>\n",
       "      <td>3.812309</td>\n",
       "    </tr>\n",
       "    <tr>\n",
       "      <th>Comedy</th>\n",
       "      <td>95836</td>\n",
       "      <td>3.565456</td>\n",
       "    </tr>\n",
       "    <tr>\n",
       "      <th>Action</th>\n",
       "      <td>76448</td>\n",
       "      <td>3.554547</td>\n",
       "    </tr>\n",
       "    <tr>\n",
       "      <th>Thriller</th>\n",
       "      <td>54883</td>\n",
       "      <td>3.644025</td>\n",
       "    </tr>\n",
       "    <tr>\n",
       "      <th>Sci-Fi</th>\n",
       "      <td>49518</td>\n",
       "      <td>3.509693</td>\n",
       "    </tr>\n",
       "    <tr>\n",
       "      <th>Adventure</th>\n",
       "      <td>39923</td>\n",
       "      <td>3.538637</td>\n",
       "    </tr>\n",
       "    <tr>\n",
       "      <th>Romance</th>\n",
       "      <td>39747</td>\n",
       "      <td>3.659748</td>\n",
       "    </tr>\n",
       "    <tr>\n",
       "      <th>War</th>\n",
       "      <td>24391</td>\n",
       "      <td>3.940634</td>\n",
       "    </tr>\n",
       "    <tr>\n",
       "      <th>Crime</th>\n",
       "      <td>22545</td>\n",
       "      <td>3.764249</td>\n",
       "    </tr>\n",
       "    <tr>\n",
       "      <th>Horror</th>\n",
       "      <td>22303</td>\n",
       "      <td>3.241089</td>\n",
       "    </tr>\n",
       "    <tr>\n",
       "      <th>Children's</th>\n",
       "      <td>17540</td>\n",
       "      <td>3.475314</td>\n",
       "    </tr>\n",
       "    <tr>\n",
       "      <th>Mystery</th>\n",
       "      <td>12919</td>\n",
       "      <td>3.759347</td>\n",
       "    </tr>\n",
       "    <tr>\n",
       "      <th>Musical</th>\n",
       "      <td>11973</td>\n",
       "      <td>3.700242</td>\n",
       "    </tr>\n",
       "    <tr>\n",
       "      <th>Animation</th>\n",
       "      <td>9866</td>\n",
       "      <td>3.721569</td>\n",
       "    </tr>\n",
       "    <tr>\n",
       "      <th>Fantasy</th>\n",
       "      <td>9539</td>\n",
       "      <td>3.490408</td>\n",
       "    </tr>\n",
       "    <tr>\n",
       "      <th>Western</th>\n",
       "      <td>8583</td>\n",
       "      <td>3.708494</td>\n",
       "    </tr>\n",
       "    <tr>\n",
       "      <th>Film-Noir</th>\n",
       "      <td>6838</td>\n",
       "      <td>4.117140</td>\n",
       "    </tr>\n",
       "    <tr>\n",
       "      <th>Documentary</th>\n",
       "      <td>2349</td>\n",
       "      <td>3.950192</td>\n",
       "    </tr>\n",
       "  </tbody>\n",
       "</table>\n",
       "</div>"
      ],
      "text/plain": [
       "             num_ratings  avg_rating\n",
       "genre_list                          \n",
       "Drama             107794    3.812309\n",
       "Comedy             95836    3.565456\n",
       "Action             76448    3.554547\n",
       "Thriller           54883    3.644025\n",
       "Sci-Fi             49518    3.509693\n",
       "Adventure          39923    3.538637\n",
       "Romance            39747    3.659748\n",
       "War                24391    3.940634\n",
       "Crime              22545    3.764249\n",
       "Horror             22303    3.241089\n",
       "Children's         17540    3.475314\n",
       "Mystery            12919    3.759347\n",
       "Musical            11973    3.700242\n",
       "Animation           9866    3.721569\n",
       "Fantasy             9539    3.490408\n",
       "Western             8583    3.708494\n",
       "Film-Noir           6838    4.117140\n",
       "Documentary         2349    3.950192"
      ]
     },
     "execution_count": 16,
     "metadata": {},
     "output_type": "execute_result"
    }
   ],
   "source": [
    "# Filter data: only men over age 25\n",
    "men_over_25 = data[(data.gender == 'M') & (data.age > 25)]\n",
    "\n",
    "# Split the 'genres' into separate entries\n",
    "men_over_25_expanded = men_over_25.copy()\n",
    "men_over_25_expanded['genre_list'] = men_over_25_expanded['genres'].str.split('|')\n",
    "\n",
    "# Explode the dataframe so each row corresponds to a single genre\n",
    "men_over_25_expanded = men_over_25_expanded.explode('genre_list')\n",
    "\n",
    "# Group by each genre and calculate count and mean of ratings\n",
    "genre_agg = men_over_25_expanded.groupby('genre_list')['rating'].agg(['count', 'mean'])\n",
    "genre_agg = genre_agg.rename(columns={'count': 'num_ratings', 'mean': 'avg_rating'})\n",
    "\n",
    "# Sort by number of ratings in descending order and display the result\n",
    "genre_agg.sort_values(by='num_ratings', ascending=False)\n"
   ]
  },
  {
   "cell_type": "markdown",
   "metadata": {},
   "source": [
    "#### Task 2: Top 5 movies by number of ratings\n",
    "1. Group the data by movie title and count the number of ratings.\n",
    "2. Sort in descending order and select the top 5 movies.\n"
   ]
  },
  {
   "cell_type": "code",
   "execution_count": 17,
   "metadata": {},
   "outputs": [
    {
     "data": {
      "text/plain": [
       "title\n",
       "American Beauty (1999)                                   3428\n",
       "Star Wars: Episode IV - A New Hope (1977)                2991\n",
       "Star Wars: Episode V - The Empire Strikes Back (1980)    2990\n",
       "Star Wars: Episode VI - Return of the Jedi (1983)        2883\n",
       "Jurassic Park (1993)                                     2672\n",
       "dtype: int64"
      ]
     },
     "execution_count": 17,
     "metadata": {},
     "output_type": "execute_result"
    }
   ],
   "source": [
    "# Count the number of ratings per movie title\n",
    "ratings_count = data.groupby('title').size()\n",
    "\n",
    "# Sort by count in descending order and select top 5 movies\n",
    "top5_movies = ratings_count.sort_values(ascending=False).head(5)\n",
    "top5_movies\n"
   ]
  },
  {
   "cell_type": "markdown",
   "metadata": {},
   "source": [
    "#### Task 3: Average movie ratings by age groups\n",
    "Define age groups: `<18`, `18-29`, `30-49`, `50-69`, `70+` and compute the average ratings per group.\n"
   ]
  },
  {
   "cell_type": "code",
   "execution_count": 18,
   "metadata": {},
   "outputs": [
    {
     "data": {
      "text/plain": [
       "age_group\n",
       "<18      3.549520\n",
       "18-29    3.533299\n",
       "30-49    3.624050\n",
       "50-69    3.732677\n",
       "70+           NaN\n",
       "Name: rating, dtype: float64"
      ]
     },
     "execution_count": 18,
     "metadata": {},
     "output_type": "execute_result"
    }
   ],
   "source": [
    "# Define bins and labels for age groups\n",
    "bins = [0, 18, 30, 50, 70, np.inf]  \n",
    "labels = ['<18', '18-29', '30-49', '50-69', '70+']\n",
    "\n",
    "# Create an 'age_group' column based on the defined bins\n",
    "data['age_group'] = pd.cut(data['age'], bins=bins, labels=labels, right=False)\n",
    "\n",
    "# Group by age_group and calculate mean rating\n",
    "average_by_age = data.groupby('age_group', observed=False)['rating'].mean()\n",
    "average_by_age\n"
   ]
  },
  {
   "cell_type": "markdown",
   "metadata": {},
   "source": [
    "#### Task 4: Unique movies rated by age ranges in the same year as a chosen movie\n",
    "\n",
    "Steps:\n",
    "1. Pick a movie (e.g., \"Toy Story (1995)\") and extract its release year.\n",
    "2. Add a 'year' column to the dataset extracted from movie titles.\n",
    "3. Filter movies released in that same year.\n",
    "4. Define three age ranges: Under 18, 19–45, and Above 45.\n",
    "5. Group by these age ranges and count the number of unique movies rated.\n"
   ]
  },
  {
   "cell_type": "code",
   "execution_count": 19,
   "metadata": {},
   "outputs": [
    {
     "data": {
      "text/plain": [
       "age_range\n",
       "0           272\n",
       "19-45       298\n",
       "Above 45    263\n",
       "Under 18    198\n",
       "Name: movie_id, dtype: int64"
      ]
     },
     "execution_count": 19,
     "metadata": {},
     "output_type": "execute_result"
    }
   ],
   "source": [
    "# Extract year from title using regex and create a new 'year' column\n",
    "data['year'] = data['title'].str.extract(r'\\((\\d{4})\\)').astype(float)\n",
    "\n",
    "# Pick a movie and get its year. For example: \"Toy Story (1995)\"\n",
    "chosen_movie = \"Toy Story (1995)\"\n",
    "chosen_year = data[data.title == chosen_movie]['year'].iloc[0]\n",
    "\n",
    "# Filter data for movies released in the same year as the chosen movie\n",
    "same_year_data = data[data.year == chosen_year].copy()\n",
    "\n",
    "# Define conditions for age ranges\n",
    "age_range_conditions = [\n",
    "    (same_year_data.age < 18),\n",
    "    (same_year_data.age.between(19, 45)),\n",
    "    (same_year_data.age > 45)\n",
    "]\n",
    "age_range_labels = ['Under 18', '19-45', 'Above 45']\n",
    "\n",
    "# Create an 'age_range' column based on these conditions\n",
    "same_year_data['age_range'] = np.select(age_range_conditions, age_range_labels)\n",
    "\n",
    "# Group by age_range and count unique movies rated\n",
    "unique_movies_by_age = same_year_data.groupby('age_range')['movie_id'].nunique()\n",
    "unique_movies_by_age\n"
   ]
  },
  {
   "cell_type": "markdown",
   "metadata": {},
   "source": [
    "#### Task 5: Function to find movies rated similarly by a given user\n",
    "Create a function that, given a user ID and a movie ID, returns a list of other movies that the user rated with the same rating as the specified movie.\n"
   ]
  },
  {
   "cell_type": "code",
   "execution_count": 20,
   "metadata": {},
   "outputs": [
    {
     "data": {
      "text/plain": [
       "[\"Bug's Life, A (1998)\",\n",
       " 'Ben-Hur (1959)',\n",
       " 'Christmas Story, A (1983)',\n",
       " 'Beauty and the Beast (1991)',\n",
       " 'Sound of Music, The (1965)',\n",
       " 'Awakenings (1990)',\n",
       " 'Back to the Future (1985)',\n",
       " \"Schindler's List (1993)\",\n",
       " 'Pocahontas (1995)',\n",
       " 'Last Days of Disco, The (1998)',\n",
       " 'Cinderella (1950)',\n",
       " 'Apollo 13 (1995)',\n",
       " 'Toy Story (1995)',\n",
       " 'Rain Man (1988)',\n",
       " 'Mary Poppins (1964)',\n",
       " 'Dumbo (1941)',\n",
       " 'Saving Private Ryan (1998)']"
      ]
     },
     "execution_count": 20,
     "metadata": {},
     "output_type": "execute_result"
    }
   ],
   "source": [
    "def movies_rated_similarly(user_id, movie_id, data):\n",
    "    \"\"\"\n",
    "    For a given user_id and movie_id, return a list of other movie titles \n",
    "    that the same user rated with the same rating.\n",
    "    \"\"\"\n",
    "    # Retrieve the rating the user gave to the specified movie\n",
    "    user_rating = data[(data.user_id == user_id) & (data.movie_id == movie_id)]['rating']\n",
    "    if user_rating.empty:\n",
    "        return []  # Return empty list if no such rating exists\n",
    "    target_rating = user_rating.iloc[0]\n",
    "    \n",
    "    # Find all movies rated by the user with the same rating\n",
    "    similar_ratings = data[(data.user_id == user_id) & (data.rating == target_rating)]\n",
    "    \n",
    "    # Exclude the original movie from results\n",
    "    similar_movies = similar_ratings[similar_ratings.movie_id != movie_id]\n",
    "    \n",
    "    # Return unique movie titles from the result\n",
    "    return similar_movies['title'].unique().tolist()\n",
    "\n",
    "# Demonstrate the function with an example\n",
    "example_user = 1\n",
    "example_movie = 1193  # e.g., \"One Flew Over the Cuckoo's Nest (1975)\"\n",
    "similar_movies_list = movies_rated_similarly(example_user, example_movie, data)\n",
    "similar_movies_list\n"
   ]
  },
  {
   "cell_type": "markdown",
   "metadata": {},
   "source": [
    "#### Task 6: Additional Statistic or Plot\n",
    "Exploring how average movie ratings vary by genre and gender, and then plot the results.\n"
   ]
  },
  {
   "cell_type": "code",
   "execution_count": 21,
   "metadata": {},
   "outputs": [
    {
     "data": {
      "image/png": "[encoded data removed]",
      "text/plain": [
       "<Figure size 1200x600 with 1 Axes>"
      ]
     },
     "metadata": {},
     "output_type": "display_data"
    }
   ],
   "source": [
    "import matplotlib.pyplot as plt\n",
    "\n",
    "# Expand the dataset to have one row per genre as before\n",
    "data_expanded = data.copy()\n",
    "data_expanded['genre_list'] = data_expanded['genres'].str.split('|')\n",
    "data_expanded = data_expanded.explode('genre_list')\n",
    "\n",
    "# Compute average rating by genre and gender\n",
    "genre_gender_avg = data_expanded.groupby(['genre_list', 'gender'])['rating'].mean().unstack()\n",
    "\n",
    "# Plot the average ratings by genre and gender\n",
    "genre_gender_avg.plot(kind='bar', figsize=(12,6))\n",
    "plt.title('Average Rating by Genre and Gender')\n",
    "plt.xlabel('Genre')\n",
    "plt.ylabel('Average Rating')\n",
    "plt.xticks(rotation=45)\n",
    "plt.legend(title='Gender')\n",
    "plt.tight_layout()\n",
    "plt.show()\n"
   ]
  },
  {
   "cell_type": "markdown",
   "metadata": {},
   "source": [
    "**Observation:**\n",
    "- The bar chart shows differences in how different genders rate various genres.\n",
    "- Only a few certain genres are rated higher by one gender compared to another.\n",
    "- This insight can be useful for understanding audience preferences and tailoring recommendations.\n"
   ]
  }
 ],
 "metadata": {
  "kernelspec": {
   "display_name": "base",
   "language": "python",
   "name": "python3"
  },
  "language_info": {
   "codemirror_mode": {
    "name": "ipython",
    "version": 3
   },
   "file_extension": ".py",
   "mimetype": "text/x-python",
   "name": "python",
   "nbconvert_exporter": "python",
   "pygments_lexer": "ipython3",
   "version": "3.12.7"
  }
 },
 "nbformat": 4,
 "nbformat_minor": 2
}
