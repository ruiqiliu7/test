{
 "cells": [
  {
   "cell_type": "markdown",
   "metadata": {},
   "source": [
    "# MAIN PROJECT BODY"
   ]
  },
  {
   "cell_type": "code",
   "execution_count": 15,
   "metadata": {},
   "outputs": [
    {
     "name": "stdout",
     "output_type": "stream",
     "text": [
      "Detected language: hi\n",
      "NDTV\n",
      "WORLD EDITION\n",
      "PROFIT\n",
      "हिंदी\n",
      "IPL 2024\n",
      "MOVIES\n",
      "FOOD\n",
      "LIFESTYLE\n",
      "HEALTH\n",
      "SWASTH\n",
      "TECH\n",
      "INFLUENCERS\n",
      "GAMES\n",
      "BIG BONUS\n",
      "SHOPPING\n",
      "LIVE टीवी\n",
      "ताज़ातरीन\n",
      "देश\n",
      "चुनाव\n",
      "वीडियो\n",
      "MP-छत्तीसगढ़\n",
      "राजस्थान\n",
      "क्रिकेट\n",
      "वेबस्टोरीज़\n",
      "बॉलीवुड\n",
      "होम\n",
      "देश \n",
      "\"मैं उत्साहित हूं...\" : मुंबई स्टार्ट-अप के संस्थापक ने Nvidia के समर्थन पर जताई खुशी\n",
      "\"मैं उत्साहित हूं...\" : मुंबई स्टार्ट-अप के संस्थापक ने Nvidia के समर्थन पर जताई खुशी\n",
      "स्फेरिकल इनसाइट्स एंड कंसल्टिंग की एक रिपोर्ट के अनुसार, वैश्विक एआई बाजार 2022 में 168.5 बिलियन डॉलर से बढ़कर 2032 तक 2 ट्रिलियन डॉलर से अधिक होने का अनुमान है.\n",
      "Edited by चंदन वत्स, Updated: 19 मार्च, 2024 7:24 PMhttps://ndtv.in/topic/chandan-batsya\n",
      "मुंबई: एनवीडिया (NVIDIA) आर्टफिशियल इंटेलीजेंस (Artificial Intelligence) कंपनी के तौर पर काम करने के साथ ही ग्राफिक्स प्रोसेसिंग यूनिट्स के क्षेत्र में भी सफलतापूर्वक आगे बढ़ रही है. योट्टा डेटा सर्विसेज के एनवीडिया से ऑर्डर किए गए 4,000 से ज्यादा H100 सेमीकंडक्टर चिप्स सोमवार रात मुंबई के उपनगरीय इलाके में डिलेवर हुए. सभी कर्मचारी रात 10 बजे तक इसका इंतजार कर रहे थे. इसके आने को लेकर वो इतने उत्साहित थे कि डिलेवरी के लिए पहुंचे ट्रक का सामने नारियल तोड़े गए. फूल-मालाओं से स्वागत हुआ. उनका कहना था कि एक सपना पूरा होने जैसा है. \n",
      "यह भी पढ़ें\n",
      "टेक्नोलॉजी बना रही विकसित भारत का रास्ता, स्टार्ट अप और ड्रोन निर्माण में हम आगे : PM मोदी\n",
      "भारत में ‘यूनिकॉर्न’ की संख्या घटकर 67 पर, दुनियाभर में यूनिकॉर्न का तीसरा बड़ा केंद्र होने का रुतबा बरकरार\n",
      "ट्रैफिक में एकसाथ फंसे ऑफिस के दो सहयोगी, वक्त बर्बाद न हो इसलिए सड़क पर ही करने लगे कुछ ऐसा, लोग फैन हो गए...\n",
      "एनवीडिया कॉर्प के सेमीकंडक्टर की इन दिनों काफी चर्चा है. कंपनी के उत्पाद काफी अच्छे हैं और ये एआई के विकास के लिए काफी सहायक हैं. ब्लूमबर्ग की रिपोर्ट के मुताबिक एआई तकनीक ने दुनिया भर के उद्योगों में हलचल पैदा कर दी है. OpenAI और Google जैसी कंपनियों ने अमेरिका में ऐसे चिप्स में अरबों डॉलर का निवेश किया है. वहीं योट्टा AI पर भारत का अब तक का सबसे बड़ा दांव लगा रही है.\n",
      "मुख्य कार्यकारी अधिकारी और सह-संस्थापक, सुनील गुप्ता ने एनवीडिया के सेलिब्रिटी सीईओ जेन्सेन हुआंग के साथ बनाए गए रिलेशन के कारण देश के बेहतर प्रौद्योगिकी शख्स और समूहों में बढ़त हासिल कर ली है. योट्टा के सोमवार को कैलिफोर्निया में एनवीडिया के डेवलपर सम्मेलन में शामिल होने की उम्मीद है, जो अमेरिका से बाहर बाजारों में एआई की क्षमता का एक शुरुआती उदाहरण है.\n",
      "52 वर्षीय सुनील गुप्ता ने कहा, \"मैं महत्वाकांक्षी हूं, मैं उत्साहित हूं. मैं एआई के भविष्य पर दांव लगाने को तैयार हूं.\"\n",
      "योट्टा की रणनीति भारत में डेटा केंद्रों से हाई परफॉर्मेंस कंप्यूटिंग क्षमताओं की पेशकश करना है, ताकि देश के कारपोरेशन, स्टार्टअप और रिसर्चर अपनी खुद की एआई सर्विस विकसित करने में सक्षम हो सकें.\n",
      "बाज़ार में सबसे उन्नत एनवीडिया चिप्स, बड़े भाषा मॉडल के प्रशिक्षण और ओपनएआई के चैटजीपीटी और माइक्रोसॉफ्ट कॉर्प के कोडिंग सहायक, गिटहब कोपायलट जैसे एप्लिकेशंस के निर्माण के लिए जरूरी हैं.\n",
      "सुनील गुप्ता का अनुमान है कि देरी के मुद्दों के कारण उन्हें देश के बाहर क्लाउड कंप्यूटिंग सर्विसेज पर बढ़त मिल गई है, और उन्होंने दुनिया में एनवीडिया एआई चिप्स की सबसे कम कीमत में पहुंच बनाने का संकल्प लिया है, यहां तक कि वो सीमित बजट वाले भारतीय स्टार्टअप्स को नकदी के बजाय इक्विटी देने पर भी विचार कर रहे हैं.\n",
      "स्फेरिकल इनसाइट्स एंड कंसल्टिंग की एक रिपोर्ट के अनुसार, वैश्विक एआई बाजार 2022 में 168.5 बिलियन डॉलर से बढ़कर 2032 तक 2 ट्रिलियन डॉलर से अधिक होने का अनुमान है.\n",
      "सैनफोर्ड सी. बर्नस्टीन के विश्लेषक स्टेसी रसगॉन ने कहा, \"ये एआई के आकर्षक क्षेत्र में पैसा बनाने का दौर है. हालांकि अभी भी ये एआई के शुरुआती दिन हैं और कंपनियां सोच-समझकर कदम उठा रही हैं.\"\n",
      "भारत में इस महीने आर्टफिशियल इंटेलीजेंस के एक नए युग की कठिन शुरुआत हुई है.\n",
      "योट्टा की एनवीडिया चिप्स की खेप, जून तक लगभग 20,000 तक पहुंच जाएगी, हालांकि वैश्विक मानकों के हिसाब से ये बहुत बड़ी नहीं है. माइक्रोसॉफ्ट कॉर्प जैसे टेक दिग्गज इन्हें हजारों की संख्या में खरीदते हैं, और मेटा प्लेटफॉर्म इंक के मार्क जुकरबर्ग ने कहा कि उनका लक्ष्य साल के अंत तक 350,000 एच100 हासिल करने का है. फिर भी, एनवीडिया की आपूर्ति मांग से बहुत कम है, इसलिए सीईओ हुआंग को आवंटन को कैलिब्रेट करना होगा, क्योंकि कॉर्पोरेट टाइटन्स और राज्य प्रमुख आवंटन के लिए दबाव डाल रहे हैं.\n",
      "भारत पर विशेष ध्यान दिया जा रहा है. सितंबर में, हुआंग ने प्रधानमंत्री नरेंद्र मोदी से मुलाकात की और कहा कि वो देश में डेटा सेंटर ऑपरेटरों के ऑर्डर को प्राथमिकता देंगे. हुआंग ने उस समय कहा, \"आपके पास डेटा है, आपके पास प्रतिभा है. ये दुनिया के सबसे बड़े एआई बाजारों में से एक होने जा रहा है.\"\n",
      "सुनील गुप्ता की इस क्षेत्र में विश्वसनीयता है. वो डेटा सेंटर व्यवसायों पर दशकों से काम कर रहे हैं और रियल एस्टेट अरबपति निरंजन हीरानंदानी के समर्थन से 2019 में योट्टा की सह-स्थापना की. क्लाउड कंप्यूटिंग ऑपरेटर के रूप में, योटा वेल्स फ़ार्गो एंड कंपनी जैसी कंपनियों को डेटा स्टोरेज और कंप्यूटिंग पावर तक पहुंच देता है, जिसे वे अपने स्वयं के हार्डवेयर को खरीदे और इंस्टॉल किए बिना आवश्यकतानुसार बढ़ा या घटा सकते हैं.\n",
      "Listen to the latest songs, only on JioSaavn.com\n",
      "देश के दो सबसे बड़े समूह टाटा समूह और रिलायंस इंडस्ट्रीज लिमिटेड ने भी एआई बुनियादी ढांचे को विकसित करने की योजना बनाई है, लेकिन अभी तक एनवीडिया के सबसे उन्नत चिप्स का ऑर्डर नहीं दिया है.\n",
      "Nvidia\n",
      "Yotta\n",
      "Startup\n",
      "टिप्पणियां\n",
      "पढ़ें देश-विदेश की ख़बरें अब हिन्दी में (Hindi News) | चुनाव 2024 (Elections 2024) के लाइव अपडेट के लिए हमें फॉलो करें. और जानें इलेक्शन शेड्यूल (Election Schedule ) NDTV India पर.\n",
      "लाइव खबर देखें:\n",
      "फॉलो करे:\n",
      "ट्रेंडिंग\n",
      "स्टूडेंट ने टीचर पर लिख डाला ऐसा निबंध, इंटरनेट पर आंसर शीट हो गई वायरल\n",
      "टी20 विश्व कप के लिए ये 9 नाम हुए पक्के, लेकिन इन 9 नामों पर सेलेक्टर अभी भी एकमत नहीं\n",
      "राज किरण की बेटी के सिंपल लुक पर फिदा हुए फैन्स, 30 साल से लापता हैं एक्टर, पुलिस-जासूस ढूंढने में रहे नाकाम\n",
      "मनोरंजन\n",
      "मलाइका अरोड़ा और अरबाज खान की शादी की अनदेखी तस्वीरें\n",
      "10 Slides\n",
      "मनोरंजन\n",
      "बॉलीवुड स्टार्स की ये तस्वीरें हैं अनदेखी, सबसे खास है नूतन की शादी की फोटो\n",
      "10 Slides\n",
      "लाइफस्टाइल\n",
      "स्किन पर कसावट बनाए रखती हैं ये 5 चीजें, झुर्रियां रहती हैं दूर\n",
      "8 Slides\n",
      "अन्य खबरें\n",
      "स्टूडेंट ने टीचर पर लिख डाला ऐसा निबंध, इंटरनेट पर आंसर शीट हो गई वायरल\n",
      "टी20 विश्व कप के लिए ये 9 नाम हुए पक्के, लेकिन इन 9 नामों पर सेलेक्टर अभी भी एकमत नहीं\n",
      "राज किरण की बेटी के सिंपल लुक पर फिदा हुए फैन्स, 30 साल से लापता हैं एक्टर, पुलिस-जासूस ढूंढने में रहे नाकाम\n",
      "अमिताभ बच्चन राजेश खन्ना के बचपन का रोल निभा कर छा गया था ये बच्चा, अब बन गया है दिग्गज डायरेक्टर, 40 साल बाद दिखता है ऐसा\n",
      "Faf du Plessis: \"लगता है कि दिमाग...\", हैदराबाद के खिलाफ आरसीबी की खस्ता हालत पर कप्तान फाफ डु प्लेसिस का बड़ा बयान\n",
      "Advertisement\n",
      " QUICK LINKS\n",
      "Rajasthan NewsHindi NewsLive Train statusPNR StatusBusiness Newsदेशक्रिकेटफिल्मी दुनियाMP Chhattisgarh NewsIran Attack on IsraelSalman KhanArvind KejriwalPM Modi Live UpdatesRCB vs SRH\n",
      "Advertisement\n",
      "Advertisement\n",
      "................................ Advertisement ................................\n",
      "ताज़ा खबरें\n",
      "ईरान द्वारा जब्त किए गए मालवाहक जहाज पर सवार 17 भारतीयों में एक महिला भी\n",
      "भारतीय कैदी सरबजीत सिंह की हत्या करने वाला तांबा अभी ‘जिंदा’ है: पाकिस्तान पुलिस अधिकारी\n",
      "सलमान के घर के पास गोलीबारी की जिम्मेदारी वाली फेसबुक पोस्ट का आईपी पता पुर्तगाल में: पुलिस\n",
      "बंटवारे के सालों बाद भारत से पाकिस्तान भेजा गया पुराने घर का दरवाजा, देख चूमने लगे प्रोफेसर, खुशी से छलक पड़े आंसू\n",
      "अयोध्या में भारी भीड़ को देखते हुए दर्शन के लिए सभी वीआईपी पास रद्द, 17 को है रामनवमी\n",
      "About UsAdvertiseNews AlertArchivesAppsCareersChannelsDisclaimerFeedbackInvestorsOmbudsmanRedressalsService Terms\n",
      "THIS WEBSITE FOLLOWS THE DNPA CODE OF ETHICS | © COPYRIGHT NDTV CONVERGENCE LIMITED 2020. ALL RIGHTS RESERVED.\n",
      " livetvarrowprintemailchatlinkedinredditWhatsAppfacebooktwittermorenotificationsearchsnapchatkoo\n"
     ]
    }
   ],
   "source": [
    "from transformers import pipeline\n",
    "import requests\n",
    "from selenium import webdriver\n",
    "from selenium.webdriver.common.by import By\n",
    "from langdetect import detect\n",
    "\n",
    "def translate_with_mymemory(text, source_lang='auto', target_lang='en'):\n",
    "    # Split text into chunks of 500 characters\n",
    "    chunks = [text[i:i+500] for i in range(0, len(text), 500)]\n",
    "    translated_text = ''\n",
    "\n",
    "    for chunk in chunks:\n",
    "        url = \"https://api.mymemory.translated.net/get\"\n",
    "        params = {\n",
    "            \"q\": chunk,\n",
    "            \"langpair\": f\"{source_lang}|{target_lang}\"\n",
    "        }\n",
    "        response = requests.get(url, params=params)\n",
    "        json_data = response.json()\n",
    "        translated_text += json_data['responseData']['translatedText'] + ' '\n",
    "    \n",
    "    return translated_text\n",
    "\n",
    "def translate_article_with_selenium(url):\n",
    "    # Setup WebDriver\n",
    "    options = webdriver.ChromeOptions()\n",
    "    options.add_argument('headless')  # Run in background\n",
    "    driver = webdriver.Chrome(options=options)\n",
    "\n",
    "    # Fetch the webpage\n",
    "    driver.get(url)\n",
    "    content = driver.find_element(By.TAG_NAME, 'body').text\n",
    "\n",
    "    driver.quit()\n",
    "\n",
    "    # Detect the language\n",
    "    lang = detect(content)\n",
    "    print(f\"Detected language: {lang}\")\n",
    "    return content\n",
    "    # Translate to English if not already in English\n",
    "    # if lang != 'en':\n",
    "    #     translated_text = translate_with_mymemory(content, lang, 'en')\n",
    "    # else:\n",
    "    #     translated_text = content\n",
    "\n",
    "    # return translated_text\n",
    "\n",
    "# Example usage\n",
    "url = \"https://ndtv.in/india/mumbai-start-up-founder-expresses-happiness-over-nvidias-support-5269980\"\n",
    "translated_text = translate_article_with_selenium(url)\n",
    "print(translated_text)\n",
    "\n",
    "\n",
    "\n"
   ]
  },
  {
   "cell_type": "code",
   "execution_count": 22,
   "metadata": {},
   "outputs": [
    {
     "name": "stdout",
     "output_type": "stream",
     "text": [
      "Translated text: He was so excited about the arrival that the truck arrived for the post office had turned to the coconuts. He was welcomed with flowers and said that it was like a dream to be fulfilled.\n",
      "Translated text: In building an developed India's way to start up, start up and drones: The number of · Global Voices\n",
      "Translated text: Two associate members of the Democratic Republic of the Congo, without wasting time, were on the street, some of the people got off the ground, some of them talking about the days of an Invidor from an African Corporation. The company's products are very good and that's the development of AI.\n",
      "Translated text: There's a lot of help for me, according to the Blueburg report, the AI technology has caused the world's industry to stir up.\n",
      "Translated text: That's where Yota is putting the biggest difficulty in India at AI. The chief executive officer and co-computer, Helea secreta, has built the country with the Santribution of Envision, which is due to the country's commitment of Envisin's jang.\n",
      "Translated text: The better technology person and groups have gained the edge. On Monday of Jotasa, hope to join the UN's developers in California, which is beyond the US's ability to attend an AI conference, which is out of the United States's market\n",
      "Translated text: An initial example. A 52 - year - old Jonathan said, \"I'm ambitious, I'm excited. I'm ready to jump on the future of AI.\"\n",
      "Translated text: Tacting capabilities are to offer to make the country's technology, startup and rester, can be able to develop their own II service. The most advanced Internet chips in the market, a great language model\n",
      "Translated text: Gapple is required to build Appulus, like chatty and Microsoft Corp of OpenA. The map is expected to estimate that they are outside the country because of the delay points.\n",
      "Translated text: The U.S. computing service has got a edge, and they are determined to reach the lowest price in the world at the minimum price of an EnVdia AI chip, so that he's e-mailing Indian startups with limited budgets instead of cash\n",
      "Translated text: Quanti is also considering. According to a report by the Geological Integrations and contraventions, the global AI A2 market is estimated to be more than 2032 dollars.\n",
      "Translated text: \"These are the rounds of making money in the attractive area of AI, although these are the initial days of AI, and they're taking steps.\"\n",
      "Translated text: There has been a difficult start in the technologyntic acidics. The optic acidic chips of Jota will reach nearly 20,000, although the global standard is not too large.\n",
      "Translated text: They buy technology like Corps as thousands of dollars, and Mark Kinjezakberg said that their goal is 350,000 H100 to the end of the year.\n",
      "Translated text: It's too low to demand, so the regent has to subscribe to the allocational allocation, because Corps are pressing on for Corps and State Headship. In September, India is being given special attention.\n",
      "Translated text: Prime Minister Nadi met Modidi and said that he would prefer the command of the data center operators in the country. And Hung said at that time, \"You have data, you have talent.\n",
      "Translated text: One of the boys is going to be one of the.\" She believes in this area of the Haul secreta. She's working for decades on the data center business and with the support of the Federal A billionaire Diamonds in 2019\n",
      "Translated text: KC-Zalikeness. KLATOCHOCHER, as a computer-transfering operator, reaches companies like Ytts and company stores, which they buy to their own hardware and in effect.\n",
      "Translated text: Can increase or subtract from the required items.\n",
      "Translated text: has planned, but the most advanced chips in EnVia have not yet ordered.\n",
      "Translated text: Let us take a look at the Live Update for that update. And know that Assembly schedule is scheduled on the NovellWC. See Live News:\n",
      "Translated text: These 9 names have been named for the T20 World War II, but these 9 names are still no longer a match for the Benefle daughter of the king's daughter who has been deprived of her memory for 30 years, an observer, a police-man who has been unable to find a nose.\n",
      "Translated text: Bram entertainment shows unintended images of the innocent marriage of Malchus Aroji and Arab Khan these are the pictures of middle - aged Bhagustwood, the most important of all, showing the photo of Nitron's wedding photo 10 of Selests' marriage on Life's Life's Love.\n",
      "Translated text: It's 5 objects, it's sages, but 8 lot other news reports wrote on the teacher such a essay as an online sheet on the Internet, or it's 9 names written for the 20th world cup, but these 9 names are based on these 9 names.\n",
      "Translated text: Muller still didn't agree with the fact that this child was missing from his 30 - year - old daughter's wheelchair, an observer, a police-man who had been searching for a boy from Laishnanne, a boy who had lost his temper for 30 years.\n",
      "Translated text: Now the director is becoming a director, 40 years later such a faf du Pundis as follows: \"The brain seems to be...\n",
      "Translated text: Tabulinational New YorkCPNPPPYCSicy World on Children's Washington New World Exploitent\n"
     ]
    }
   ],
   "source": [
    "from transformers import MarianMTModel, MarianTokenizer\n",
    "\n",
    "# Load the pre-trained model and tokenizer\n",
    "model_name = \"Helsinki-NLP/opus-mt-hi-en\"  # Hindi to English translation model\n",
    "model = MarianMTModel.from_pretrained(model_name)\n",
    "tokenizer = MarianTokenizer.from_pretrained(model_name)\n",
    "trans=''\n",
    "# Define your input text in Hindi\n",
    "#input_text = \"आपका स्वागत है। कृपया अपना नाम बताएं।\"\n",
    "chunks = [translated_text[i:i+200] for i in range(1000, len(translated_text)-1000, 200)]\n",
    "for chunk in chunks:\n",
    "    # Tokenize the input text\n",
    "    inputs = tokenizer(chunk, return_tensors=\"pt\", padding=True, truncation=True)\n",
    "\n",
    "    # Perform translation\n",
    "    outputs = model.generate(**inputs)\n",
    "\n",
    "    # Decode the translated text\n",
    "    translated = tokenizer.decode(outputs[0], skip_special_tokens=True)\n",
    "    trans= trans +' '+translated\n",
    "    # Print the translated text\n",
    "    print(\"Translated text:\", translated)\n"
   ]
  },
  {
   "cell_type": "code",
   "execution_count": 26,
   "metadata": {},
   "outputs": [
    {
     "name": "stderr",
     "output_type": "stream",
     "text": [
      "Special tokens have been added in the vocabulary, make sure the associated word embeddings are fine-tuned or trained.\n",
      "Token indices sequence length is longer than the specified maximum sequence length for this model (1170 > 512). Running this sequence through the model will result in indexing errors\n"
     ]
    },
    {
     "name": "stdout",
     "output_type": "stream",
     "text": [
      "The U.S. computing service is determined to reach the lowest price in the world at the minimum price of an EnVdia AI chip . The most advanced Internet chips in the market are expected to reach nearly 20,000 . There has been a difficult start in the technologyntic acidics .\n"
     ]
    }
   ],
   "source": [
    "summarizer = pipeline(\"summarization\", model=\"BeenaSamuel/t5_cnn_daily_mail_abstractive_summarizer_v2\")\n",
    "response = summarizer(trans, num_beams=2, do_sample=True, max_length=1000)\n",
    "print(response[0][\"summary_text\"])"
   ]
  },
  {
   "cell_type": "code",
   "execution_count": 24,
   "metadata": {},
   "outputs": [
    {
     "data": {
      "text/plain": [
       "4728"
      ]
     },
     "execution_count": 24,
     "metadata": {},
     "output_type": "execute_result"
    }
   ],
   "source": [
    "len(trans)"
   ]
  },
  {
   "cell_type": "markdown",
   "metadata": {},
   "source": [
    "## Chinese to English"
   ]
  },
  {
   "cell_type": "code",
   "execution_count": 2,
   "metadata": {},
   "outputs": [
    {
     "name": "stdout",
     "output_type": "stream",
     "text": [
      "Detected language: zh-cn\n",
      "First page, information, video, live broadcast, Phoenix Watch, Finance, Recreation, Sports, Fashion, Automobile, Technology, Reading, Culture, History, Military, Tourism, Buddhism, More Registers, Login, Technology > Artificial Intelligence > Body Station, Nightmare of High-end Beating Workers? Using a self-developed artificial intelligence system called ChipNeMo to help companies improve the efficiency of their manufacturing chips, designed to speed up the production of GPUs, it is stated that the design of GPUs is a labour-intensive exercise, that a chip usually requires close to a thousand people to construct, that everyone needs to have a full understanding of the design details and to work together, and that Chip NeMo is able to respond quickly to work and to queries related to chip design, such as the creation of a GPU structure and chip design code. According to the Wall Street Journal, Yvatar launched C last year (2023) in October. After hipnemo, a lot of help was provided to the graphic design team, and the construction of an artificial intelligence product was indeed a good omen for British Weida, which rose by 4% on Monday, reaching an all-time high, while Goldman Sachs analysts predicted that the increase might last until the first half of 2025. Of course, it was not the only company that used AI technology to accelerate semiconductor design, and Google Deepmind created an artificial intelligence system in July last year, and Google also indicated that it could be used to improve design efficiency. According to the latest data, Britain’s share in the global market for artificial intelligence chips is expected to reach a record high of up to 90%. Huang In-hoon has also been elected to the United States College of Engineering, the National Agency of Engineering, NAE’s argument is that “the use of high-performance graphic processing units drives an artificial intelligence revolution.” News client subscribes to Phoenix Web technology. For in-depth coverage, send a micro-mail search for Phoenix Web technology. “Special statement: The content of the above-mentioned work (including video, pictures or audio) is uploaded and posted under the flag of the Phoenix Web platform, the Big Wind, and the platform provides only information storage space services. \"by the user of Dafeng Hao, which is a social media stopform and merely proposes information space services.\" Report 2024-02-07 16:52 Phoenix Net Friend [Xinjiang Networker] Nothing to China. 17 Trump accepted the “historic” trial, 56 went “at risk” while visiting with a group of luxury companies to explain how Schultz visited China, 28 of which is why the Olympics in Paris treat Russia and Israel differently, and Markron, which explains the world, 111 of which is a strong demand for more aid, 39 of which the Minister of Foreign Affairs of Ukraine, 39 or at least 10 countries, interdicted Israel's missiles, Zelansky: That's the real defense. 771 of the United States's allies' chain of “manufacture” has been extended to ASEAN, and how China will deal with it? Germany has passed the law on gender self-determination, Zaharova has scorned the world, and Lee has announced that he is officially leaving the office at an emergency time.99 The Security Council has called for an emergency meeting.99 The Russian representative: The West is so embarrassed that it is impossible to see what's happening in the world. 222 Baron Trump is an adult. 2 metres tall. The President's son is also under pressure to “choose school.” We are the frogs in the warm water, we are the lions, 386 Zelinski condemns Iran's attacks on Israel, and calls upon the United States Congress to take a decision on what's going to happen, all these things that are at stake in the regular Iranian press: at least seven high-sonic missiles are fired, none of them intercepted, and the Israeli ambassador in Russia wants Russia to condemn Iran. Iran retaliated against Israel, Medvedev responded to what was happening.126 After Iran attacked Israel, Netanyahu made his first sound.350 Biden told the Prime Minister that tonight was a victory and the United States would not be involved in any attack on Iran. The Iranian delegation to the United Nations made a statement on the attack against Israel 375 and the White House responded to “Iran's air strikes against Israel.” What's the difference between Iran's launch of drones and Israel's readiness to deal with what's happening in the world34 Iran's launch of dozens of drones into Israel, 167 US intelligence: Iran's possible attack on Israel in the morning of 14 hours, and Israel's call for the EU to classify the Iranian Revolutionary Guards as a terrorist organization 225. Besides, why does Cafes in Little County grow up with the winding of 142 cp, and finally doesn't have to hang out with the heart? Wind No. 8, the five key issues of the first criminal trial in Trump. 1 Lukashenko: neither I nor Putin want the Ukrainian people to suffer. 160 has been shown to be full of it. 30+ women talk about the climax of life: I am happy, and money has nothing to do with it. We're going to learn what's not known about the mastery of the three countries: understanding the history and culture of the three countries from different angles, making the best choices, taking the best steps: the profession is always about intelligence and women. It depends on how you tell an informed source of the true proportion of Tesla's cuts: much more than 10%, Intel reveals 5nm \"China special supply\" A chip, 92% performance or sharp drop, and as soon as possible in June, the Porsche China President's first response to the Mihtex\" Mask's first multimodel model, GPT-4V, has been overtaken by another one of Huang's latest conversations: the GPU chip has increased by 1,000 times in eight years. The future robots will be much more like humans, and China will be exposed to pure blood. The original Andre will not be used, the first AI programmer will be arrested, Devin will be \"shocked\" Silicon Valley again! The simpler it is, the easier it is, the easier it is to open a box of \"backs of God\", the better it is said to be 200 in a minute? Nor is it short of Mi, who talked about the worst of the last three years of Mi's car construction, the first car was won and couldn't lose the Mi's car for four minutes, and the first car was set to break 10,000 in four minutes, the army: it's the real thing to kill, see more official phoenix technology, phoenix technology, talk music bell videos, phoenix's unwieldy career path separate from intelligence and women. A step-by-step step towards the peak of life, a change of scenery, blood on the top of the sky, power on the top: radish out, mud out of the ground, backfire: most of the fight, starting with a background check. All Rights Reserved. \n"
     ]
    }
   ],
   "source": [
    "'''\n",
    "from transformers import MarianMTModel, MarianTokenizer\n",
    "import requests\n",
    "from selenium import webdriver\n",
    "from selenium.webdriver.common.by import By\n",
    "from langdetect import detect\n",
    "\n",
    "def translate_with_transformers(text, model_name=\"Helsinki-NLP/opus-mt-zh-en\"):\n",
    "    # Load the model and tokenizer\n",
    "    model = MarianMTModel.from_pretrained(model_name)\n",
    "    tokenizer = MarianTokenizer.from_pretrained(model_name)\n",
    "    translated_text = ''\n",
    "    \n",
    "    # Split text into chunks of 200 characters, ensuring not to cut off sentences\n",
    "    chunks = [text[i:i+200] for i in range(0, len(text), 200)]\n",
    "    for chunk in chunks:\n",
    "        inputs = tokenizer(chunk, return_tensors=\"pt\", padding=True, truncation=True)\n",
    "        outputs = model.generate(**inputs)\n",
    "        translated_chunk = tokenizer.decode(outputs[0], skip_special_tokens=True)\n",
    "        translated_text += translated_chunk + ' '\n",
    "\n",
    "    return translated_text\n",
    "\n",
    "def translate_article_with_selenium(url):\n",
    "    # Setup WebDriver\n",
    "    options = webdriver.ChromeOptions()\n",
    "    options.add_argument('headless')  # Run in background\n",
    "    driver = webdriver.Chrome(options=options)\n",
    "\n",
    "    # Fetch the webpage\n",
    "    driver.get(url)\n",
    "    content = driver.find_element(By.TAG_NAME, 'body').text\n",
    "\n",
    "    driver.quit()\n",
    "\n",
    "    # Detect the language\n",
    "    lang = detect(content)\n",
    "    print(f\"Detected language: {lang}\")\n",
    "\n",
    "    # Translate to English if not already in English\n",
    "    if lang.startswith('zh'):\n",
    "        translated_text = translate_with_transformers(content)\n",
    "    else:\n",
    "        translated_text = content\n",
    "\n",
    "    return translated_text\n",
    "\n",
    "# Example usage\n",
    "url = \"https://tech.ifeng.com/c/8WybGOq7JCe\"\n",
    "translated_text = translate_article_with_selenium(url)\n",
    "print(translated_text)\n",
    "\n",
    "'''\n"
   ]
  },
  {
   "cell_type": "markdown",
   "metadata": {},
   "source": [
    "newspaper3k"
   ]
  },
  {
   "cell_type": "code",
   "execution_count": 1,
   "metadata": {},
   "outputs": [
    {
     "name": "stderr",
     "output_type": "stream",
     "text": [
      "Building prefix dict from the default dictionary ...\n",
      "Loading model from cache C:\\Users\\10195\\AppData\\Local\\Temp\\jieba.cache\n",
      "Loading model cost 0.353 seconds.\n",
      "Prefix dict has been built successfully.\n"
     ]
    },
    {
     "name": "stdout",
     "output_type": "stream",
     "text": [
      "Extracted Article Text:\n",
      "英伟达\n",
      "\n",
      "凤凰网科技讯 《AI前哨》（作者/尹明顺）2月7日，据外媒消息称，英伟达正在使用自己开发的名为ChipNeMo的人工智能系统帮助公司提升制造芯片效率，旨在加快GPU的生产速度。\n",
      "\n",
      "据称设计GPU是一项劳动密集型工作，一个芯片通常需要近千人来建构，每个人都需要对设计细节具有充分的了解并进行协同工作，而ChipNeMo则能够快速对工作进行给予响应，并且回复与芯片设计相关的查询，例如GPU架构与芯片设计代码的生成问题。\n",
      "\n",
      "据《华尔街日报》报道，英伟达自去年（2023年）10月推出ChipNeMo后，为图设计团队提供了不少帮助，对于英伟达而言建构人工智能产品的确也是个好兆头，在周一时这家芯片巨头的股价就上涨了4%，创下历史新高，而高盛的分析师预计，该涨幅或将可以持续到2025年上半年。\n",
      "\n",
      "当然英伟达也并不是唯一一家使用人工智能技术加速半导体设计的公司，在去年7月谷歌DeepMind也制造了一个人工智能系统，谷歌公司还表示可以运用该技术提高设计效率，几个月后软件巨头新思科技也推出了一款提高芯片工程师生产效率的人工智能工具。\n",
      "\n",
      "据悉，作为为人工智能领域“无可争议的领导者”，最新的数据显示，英伟达在全球人工智能芯片市场的份额预计最高可能已经达到了90%，创下新高纪录。\n",
      "\n",
      "今日黄仁勋还入选了美国工程院院士，美国国家工程院（National Academy of Engineering, NAE）给出的理由是：“用高性能图形处理单元，推动了人工智能革命。”\n",
      "\n",
      "更多一手新闻，欢迎下载凤凰新闻客户端订阅凤凰网科技。想看深度报道，请微信搜索“凤凰网科技”。\n"
     ]
    }
   ],
   "source": [
    "from newspaper import Article\n",
    "\n",
    "def fetch_article_content(url):\n",
    "    article = Article(url)\n",
    "    article.download()\n",
    "    article.parse()\n",
    "    return article.text\n",
    "\n",
    "# Example usage\n",
    "url = \"https://tech.ifeng.com/c/8WybGOq7JCe\"\n",
    "article_text = fetch_article_content(url)\n",
    "print(\"Extracted Article Text:\")\n",
    "print(article_text)\n"
   ]
  },
  {
   "cell_type": "markdown",
   "metadata": {},
   "source": [
    "BeautifulSoup"
   ]
  },
  {
   "cell_type": "code",
   "execution_count": 2,
   "metadata": {},
   "outputs": [
    {
     "name": "stdout",
     "output_type": "stream",
     "text": [
      "Extracted Content:\n",
      "首页资讯视频直播凤凰卫视财经娱乐体育时尚汽车房产科技读书文化历史军事旅游佛教更多国学数码健康家居公益教育酒业美食科技>人工智能>正文高端打工人的噩梦？ 英伟达正利用人工智能制造芯片 | AI前哨凤凰网科技下载客户端独家抢先看2024年02月07日 10:23:26来自北京市英伟达凤凰网科技讯 《AI前哨》（作者/尹明顺）2月7日，据外媒消息称，英伟达正在使用自己开发的名为ChipNeMo的人工智能系统帮助公司提升制造芯片效率，旨在加快GPU的生产速度。据称设计GPU是一项劳动密集型工作，一个芯片通常需要近千人来建构，每个人都需要对设计细节具有充分的了解并进行协同工作，而ChipNeMo则能够快速对工作进行给予响应，并且回复与芯片设计相关的查询，例如GPU架构与芯片设计代码的生成问题。据《华尔街日报》报道，英伟达自去年（2023年）10月推出ChipNeMo后，为图设计团队提供了不少帮助，对于英伟达而言建构人工智能产品的确也是个好兆头，在周一时这家芯片巨头的股价就上涨了4%，创下历史新高，而高盛的分析师预计，该涨幅或将可以持续到2025年上半年。当然英伟达也并不是唯一一家使用人工智能技术加速半导体设计的公司，在去年7月谷歌DeepMind也制造了一个人工智能系统，谷歌公司还表示可以运用该技术提高设计效率，几个月后软件巨头新思科技也推出了一款提高芯片工程师生产效率的人工智能工具。据悉，作为为人工智能领域“无可争议的领导者”，最新的数据显示，英伟达在全球人工智能芯片市场的份额预计最高可能已经达到了90%，创下新高纪录。今日黄仁勋还入选了美国工程院院士，美国国家工程院（National Academy of Engineering, NAE）给出的理由是：“用高性能图形处理单元，推动了人工智能革命。”更多一手新闻，欢迎下载凤凰新闻客户端订阅凤凰网科技。想看深度报道，请微信搜索“凤凰网科技”。“特别声明：以上作品内容(包括在内的视频、图片或音频)为凤凰网旗下自媒体平台“大风号”用户上传并发布，本平台仅提供信息存储空间服务。Notice: The content above (including the videos, pictures and audios if any) is uploaded and posted by the user of Dafeng Hao, which is a social media platform and merely provides information storage space services.”\n"
     ]
    }
   ],
   "source": [
    "from bs4 import BeautifulSoup\n",
    "import requests\n",
    "\n",
    "def fetch_page_content(url):\n",
    "    response = requests.get(url)\n",
    "    soup = BeautifulSoup(response.text, 'html.parser')\n",
    "\n",
    "    # Heuristic: find the largest block of text\n",
    "    largest_block = None\n",
    "    max_length = 0\n",
    "    for paragraph in soup.find_all(['p', 'div'], recursive=True):\n",
    "        text = paragraph.get_text(strip=True)\n",
    "        if len(text) > max_length:\n",
    "            max_length = len(text)\n",
    "            largest_block = text\n",
    "\n",
    "    return largest_block\n",
    "\n",
    "# Example usage\n",
    "url = \"https://tech.ifeng.com/c/8WybGOq7JCe\"\n",
    "cleaned_text = fetch_page_content(url)\n",
    "print(\"Extracted Content:\")\n",
    "print(cleaned_text)\n"
   ]
  },
  {
   "cell_type": "markdown",
   "metadata": {},
   "source": [
    "Chunk text by punctuation\n",
    "\n",
    "langdetect used for detecting language\n",
    "\n",
    "newspaper3k used to download and parse the main article content directly"
   ]
  },
  {
   "cell_type": "code",
   "execution_count": 12,
   "metadata": {},
   "outputs": [
    {
     "name": "stdout",
     "output_type": "stream",
     "text": [
      "Detected language: zh-cn\n",
      "\n",
      "Original Text:\n",
      "英伟达\n",
      "\n",
      "凤凰网科技讯 《AI前哨》（作者/尹明顺）2月7日，据外媒消息称，英伟达正在使用自己开发的名为ChipNeMo的人工智能系统帮助公司提升制造芯片效率，旨在加快GPU的生产速度。\n",
      "据称设计GPU是一项劳动密集型工作，一个芯片通常需要近千人来建构，每个人都需要对设计细节具有充分的了解并进行协同工作，而ChipNeMo则能够快速对工作进行给予响应，并且回复与芯片设计相关的查询，例如GPU架构与芯片设计代码的生成问题。\n",
      "据《华尔街日报》报道，英伟达自去年（2023年）10月推出ChipNeMo后，为图设计团队提供了不少帮助，对于英伟达而言建构人工智能产品的确也是个好兆头，在周一时这家芯片巨头的股价就上涨了4%，创下历史新高，而高盛的分析师预计，该涨幅或将可以持续到2025年上半年。\n",
      "当然英伟达也并不是唯一一家使用人工智能技术加速半导体设计的公司，在去年7月谷歌DeepMind也制造了一个人工智能系统，谷歌公司还表示可以运用该技术提高设计效率，几个月后软件巨头新思科技也推出了一款提高芯片工程师生产效率的人工智能工具。\n",
      "据悉，作为为人工智能领域“无可争议的领导者”，最新的数据显示，英伟达在全球人工智能芯片市场的份额预计最高可能已经达到了90%，创下新高纪录。\n",
      "今日黄仁勋还入选了美国工程院院士，美国国家工程院（National Academy of Engineering, NAE）给出的理由是：“用高性能图形处理单元，推动了人工智能革命。”\n",
      "\n",
      "更多一手新闻，欢迎下载凤凰新闻客户端订阅凤凰网科技。想看深度报道，请微信搜索“凤凰网科技”。\n",
      "\n",
      "Translated Text:\n",
      "According to foreign media sources, British Weida is using its own artificial intelligence system, ChipNeMo, to help companies improve their chip-making efficiency, with the aim of accelerating the production of GPU.\n",
      "The design of the GPU is said to be a labour-intensive exercise, and a chip usually requires close to 1,000 people to construct, and everyone needs to have a full understanding of the design details and to work together, while Chip NeMo is able to respond quickly to the work and to queries related to the chip design, such as the creation of the GPU structure and the chip design code.\n",
      "According to the Wall Street Journal, since the launch of Chip NeMo in October last year (2023), the design team has been very helpful, and the construction of artificial intelligence products is indeed a good omen for the organization.\n",
      "On Monday, the stock price of this chip giant rose by 4 per cent, to an all-time high, while Goldman Sachs analysts predicted that the increase might last until the first half of 2025.\n",
      "In July last year, Google Deepmind also created an artificial intelligence system, and Google also indicated that it could be used to improve design efficiency.\n",
      "In a few months, software giants also introduced an artificial intelligence tool to improve the production efficiency of chip engineers.\n",
      "As “incontrovertible leaders” in the area of artificial intelligence, it is known that the latest data indicate that British Weida's share in the global market for artificial intelligence chips is expected to reach up to 90 per cent, a record high.\n",
      "Wong In-hoon is also elected to the United States Academy of Engineering, the National Academy of Engineering, NAE, today, for the reason that “the use of high-performance graphics to process modules drives an artificial intelligence revolution.” More first-hand news is available, and phoenix news users are welcome to subscribe to phoenix technology.\n"
     ]
    }
   ],
   "source": [
    "from transformers import MarianMTModel, MarianTokenizer\n",
    "import re\n",
    "from newspaper import Article\n",
    "from langdetect import detect\n",
    "\n",
    "def chunk_text_by_punctuation(text, max_length=200):\n",
    "    # Split text at punctuation marks\n",
    "    sentences = re.split(r'(?<=[.!?。！？])\\s+', text)\n",
    "    return sentences\n",
    "\n",
    "def translate_with_transformers(text, model_name=\"Helsinki-NLP/opus-mt-zh-en\"):\n",
    "    model = MarianMTModel.from_pretrained(model_name)\n",
    "    tokenizer = MarianTokenizer.from_pretrained(model_name)\n",
    "    translated_text = ''\n",
    "    \n",
    "    sentences = chunk_text_by_punctuation(text)\n",
    "    for sentence in sentences:\n",
    "        inputs = tokenizer(sentence, return_tensors=\"pt\", padding=True, truncation=True)\n",
    "        outputs = model.generate(**inputs)\n",
    "        translated_sentence = tokenizer.decode(outputs[0], skip_special_tokens=True)\n",
    "        translated_text += translated_sentence + ' '\n",
    "\n",
    "    return translated_text.strip()\n",
    "\n",
    "def fetch_article_content(url):\n",
    "    article = Article(url)\n",
    "    article.download()\n",
    "    article.parse()\n",
    "    return article.text\n",
    "\n",
    "def translate_article(url):\n",
    "    original_text = fetch_article_content(url)\n",
    "    lang = detect(original_text)\n",
    "    print(f\"Detected language: {lang}\\n\")\n",
    "\n",
    "    print(\"Original Text:\")\n",
    "    original_sentences = chunk_text_by_punctuation(original_text)\n",
    "    for sentence in original_sentences:\n",
    "        print(sentence)\n",
    "\n",
    "    if lang.startswith('en'):\n",
    "        print(\"\\nNo translation needed.\")\n",
    "        return original_text  # Return the English text directly\n",
    "    else:\n",
    "        print(\"\\nTranslated Text:\")\n",
    "        translated_text = translate_with_transformers(original_text)\n",
    "        translated_sentences = chunk_text_by_punctuation(translated_text)\n",
    "        for sentence in translated_sentences:\n",
    "            print(sentence)\n",
    "        return translated_text  # Return the translated text\n",
    "\n",
    "# Example usage\n",
    "url1 = \"https://tech.ifeng.com/c/8WybGOq7JCe\"\n",
    "translated_text1 = translate_article(url1)\n"
   ]
  },
  {
   "cell_type": "code",
   "execution_count": 13,
   "metadata": {},
   "outputs": [
    {
     "name": "stdout",
     "output_type": "stream",
     "text": [
      "Detected language: zh-cn\n",
      "\n",
      "Original Text:\n",
      "凤凰网科技讯 《AI前哨》（作者/蒋浇）2月1日近日，蚂蚁集团AI创新研发部门NextEvo全面开源AI Infra技术，可帮助大模型千卡训练有效时间占比超过95%，能实现训练时“自动驾驶”，这推动了AI研发效率。\n",
      "该技术框架名为DLRover，目标在于大规模分布式训练的智能化。目前很多企业的训练作业都是跑在混合部署的集群中，运行环境复杂多变，不管多么“崎岖的地形”，DLRover都可以“轻松行驶”。\n",
      "2023年大模型技术的发展，带来了工程实践的爆发，如何管理数据，提高训练和推理效率，最大化利用现有算力，成了关键一环。\n",
      "完成一个千亿参数级别的大模型，如GPT-3，用一张卡训练一次要耗时32年，那么训练时的算力利用尤为重要。方法之一是把能用的算力用得更好，比如进一步压榨已购买GPU的性能；二是把以前利用不了的算力用起来，比如CPU、内存等，这就需要通过异构计算平台来解决。\n",
      "据悉，最新集成进DLRover的是Flash Checkpoint（FCP）方案。模型训练时，一般要打Checkpoint（检查点），以便中断时能恢复到最近状态，目前常规的做法，存在着耗时长、高频打点易降低训练可用时间、低频打点恢复时丢失过多等缺点。新方案FCP应用在千卡千亿参数模型训练后，Checkpoint 导致的训练浪费时间降低约5倍，其中持久化时间降低约70倍，有效训练时间从90%提升至95%。\n",
      "\n",
      "Translated Text:\n",
      "Recently, on 1 February, the ants Group's Innovative Research and Development Unit, NextEvo, opened up a full range of AI Infra technologies, which can help large model kilocalories with more than 95 per cent of their training time and “self-drive” when they are trained, contributed to the efficiency of AI's research and development.\n",
      "The technical framework, known as DLRover, aims at the intellectualization of large-scale distributed training.\n",
      "Many enterprises currently operate in mixed deployment clusters, operating in a complex and variable environment, regardless of the “colossal terrain”, and the DLRover can “go easy.” The development of large-scale modelling techniques in 2023, which led to the outbreak of engineering practices, the management of data, the efficiency of training and reasoning and the maximization of the use of existing algorithms, was a key element.\n",
      "Completing a large model of a trillion-dollar parameter level, such as a GPT-3, with a card to train for 32 years at a time, is particularly important.\n",
      "One way is to use better arithmetic that can be used, for example, by pressurizing the performance of the GPU that has already been purchased; and the other way to use previously unused arithmeticals, such as CPUs, memory, etc., that needs to be addressed through an asymmetric calculation platform.\n",
      "According to the information received, the most recent integration into the DLRover is the Flash Checkpoint (FCP) programme.\n",
      "When model training is conducted, the Checkpoint (checkpoint) is generally used so that interruptions can return to the latest state.\n",
      "Current routines have the disadvantages of long-term, high-frequency (HF) locations that can reduce the time available for training and lose too much time when low-frequency (HF) points are restored.\n",
      "The new FCP application has resulted in a reduction of approximately five times in the amount of time spent on training caused by the Checkpoint, including a reduction of about 70 times the duration of training and an increase in effective training from 90 to 95 per cent.\n"
     ]
    }
   ],
   "source": [
    "url2 = \"https://tech.ifeng.com/c/8WpDSVQ5DIz\"\n",
    "translated_text2 = translate_article(url2)"
   ]
  },
  {
   "cell_type": "code",
   "execution_count": 16,
   "metadata": {},
   "outputs": [
    {
     "name": "stdout",
     "output_type": "stream",
     "text": [
      "British Weida is using its own artificial intelligence system, ChipNeMo, to help companies improve their chip-making efficiency. On Monday, the stock price of this chip giant rose by 4 per cent, to an all-time high, while Goldman Sachs analysts predicted that the increase might last until first half of 2025.\n",
      "\n",
      "------------------------\n",
      "\n",
      " AI Infra technologies can help large model kilocalories with more than 95 per cent of their training time. The technical framework, known as DLRover, aims at the intellectualization of large-scale distributed training.\n"
     ]
    }
   ],
   "source": [
    "from transformers import AutoModelForSeq2SeqLM, AutoTokenizer\n",
    "\n",
    "model_name = \"facebook/bart-large-cnn\"  # BART model fine-tuned for summarization\n",
    "model = AutoModelForSeq2SeqLM.from_pretrained(model_name)\n",
    "tokenizer = AutoTokenizer.from_pretrained(model_name)\n",
    "\n",
    "def summarize(text):\n",
    "    inputs = tokenizer(text, return_tensors=\"pt\", max_length=1024, truncation=True)\n",
    "    summary_ids = model.generate(inputs[\"input_ids\"], max_length=150, min_length=40, length_penalty=2.0, num_beams=4, early_stopping=True)\n",
    "    summary = tokenizer.decode(summary_ids[0], skip_special_tokens=True)\n",
    "    return summary\n",
    "\n",
    "# Example usage\n",
    "print(summarize(translated_text1))\n",
    "\n",
    "print(\"\\n------------------------\\n\")\n",
    "print(summarize(translated_text2))\n"
   ]
  }
 ],
 "metadata": {
  "kernelspec": {
   "display_name": "Keras3",
   "language": "python",
   "name": "python3"
  },
  "language_info": {
   "codemirror_mode": {
    "name": "ipython",
    "version": 3
   },
   "file_extension": ".py",
   "mimetype": "text/x-python",
   "name": "python",
   "nbconvert_exporter": "python",
   "pygments_lexer": "ipython3",
   "version": "3.12.0"
  }
 },
 "nbformat": 4,
 "nbformat_minor": 2
}
